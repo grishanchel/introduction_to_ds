{
 "cells": [
  {
   "cell_type": "markdown",
   "metadata": {
    "id": "Kb_PVxXaW2Qy"
   },
   "source": [
    "# <a href=\"https://miptstats.github.io/courses/ad_fivt.html\">Введение в анализ данных</a>\n",
    "## Домашнее задание 5. Компьютерное зрение & генеративные модели\n"
   ]
  },
  {
   "cell_type": "markdown",
   "metadata": {
    "id": "duMi1QifW2Qz"
   },
   "source": [
    "**Правила, <font color=\"red\">прочитайте внимательно</font>:**\n",
    "\n",
    "* Выполненную работу нужно отправить телеграм-боту `@miptstats_ds24_bot`. Для начала работы с ботом каждый раз отправляйте `/start`. **Работы, присланные иным способом, не принимаются.**\n",
    "* Дедлайн см. в боте. После дедлайна работы не принимаются кроме случаев наличия уважительной причины.\n",
    "* Прислать нужно **ноутбук в формате `ipynb`**.\n",
    "* Следите за размером файлов. **Бот не может принимать файлы весом более 20 Мб.** Если файл получается больше, заранее разделите его на несколько.\n",
    "* Выполнять задание необходимо полностью самостоятельно. **При обнаружении списывания все участники списывания будут сдавать устный зачет.**\n",
    "* Решения, размещенные на каких-либо интернет-ресурсах, не принимаются. Кроме того, публикация решения в открытом доступе может быть приравнена к предоставлении возможности списать.\n",
    "* Для выполнения задания используйте этот ноутбук в качестве основы, ничего не удаляя из него. Можно добавлять необходимое количество ячеек.\n",
    "* Комментарии к решению пишите в markdown-ячейках.\n",
    "* Выполнение задания (ход решения, выводы и пр.) должно быть осуществлено на русском языке.\n",
    "* Если код будет не понятен проверяющему, оценка может быть снижена.\n",
    "* Никакой код из данного задания при проверке запускаться не будет. *Если код студента не выполнен, недописан и т.д., то он не оценивается.*\n",
    "\n",
    "\n",
    "**Баллы за задание:**\n",
    "\n",
    "* Задача 1 &mdash; 150 баллов\n",
    "* Задача 2 &mdash; 40 баллов\n",
    "\n",
    "Баллы учитываются в <b><font color=\"green\">факультативной части</font></b> курса и не влияют на оценку по основной части."
   ]
  },
  {
   "cell_type": "code",
   "execution_count": null,
   "metadata": {
    "id": "pWZ4wmCvW2Q0"
   },
   "outputs": [],
   "source": [
    "# Bot check\n",
    "\n",
    "# HW_ID: fpmi_ad5\n",
    "# Бот проверит этот ID и предупредит, если случайно сдать что-то не то.\n",
    "\n",
    "# Status: final\n",
    "# Перед отправкой в финальном решении удали \"not\" в строчке выше.\n",
    "# Так бот проверит, что ты отправляешь финальную версию, а не промежуточную.\n",
    "# Никакие значения в этой ячейке не влияют на факт сдачи работы."
   ]
  },
  {
   "cell_type": "code",
   "source": [
    "!pip install torchinfo"
   ],
   "metadata": {
    "id": "Oh_JpvACb7Z6"
   },
   "execution_count": 1,
   "outputs": [
    {
     "name": "stdout",
     "output_type": "stream",
     "text": [
      "Collecting torchinfo\n",
      "  Downloading torchinfo-1.8.0-py3-none-any.whl (23 kB)\n",
      "Installing collected packages: torchinfo\n",
      "Successfully installed torchinfo-1.8.0\n"
     ]
    },
    {
     "name": "stderr",
     "output_type": "stream",
     "text": [
      "\n",
      "[notice] A new release of pip available: 22.3.1 -> 24.0\n",
      "[notice] To update, run: python.exe -m pip install --upgrade pip\n"
     ]
    }
   ]
  },
  {
   "cell_type": "code",
   "source": [
    "import time\n",
    "import warnings\n",
    "from collections import defaultdict\n",
    "from tqdm import tqdm\n",
    "\n",
    "import numpy as np\n",
    "import matplotlib.pyplot as plt\n",
    "import seaborn as sns\n",
    "\n",
    "import torch\n",
    "from torch import nn\n",
    "import torchvision\n",
    "from torchvision import transforms\n",
    "from torchinfo import summary\n",
    "\n",
    "from IPython.display import clear_output\n",
    "sns.set(font_scale=1, style='darkgrid', palette='Set2')\n",
    "warnings.simplefilter(\"ignore\")\n",
    "\n",
    "device = f\"cuda\" if torch.cuda.is_available() else \"cpu\"\n",
    "print(device)"
   ],
   "metadata": {
    "id": "o2-SbeG5x3oj"
   },
   "execution_count": 2,
   "outputs": [
    {
     "name": "stdout",
     "output_type": "stream",
     "text": [
      "cpu\n"
     ]
    }
   ]
  },
  {
   "cell_type": "markdown",
   "metadata": {
    "id": "2M__0kK2W2Q1"
   },
   "source": [
    "Перед выполнением задания обязательно посмотрите <a href=\"https://miptstats.github.io/courses/ad_fivt/lecture5_1.pdf\" target=\"_blank\">презентацию</a> и <a href=\"https://miptstats.github.io/courses/ad_fivt/CV_classification.html\" target=\"_blank\">ноутбук</a> про сверточные сети и классификацию, а так же <a href=\"https://miptstats.github.io/courses/ad_fivt/lecture5_2.pdf\" target=\"_blank\">презентацию</a> и <a href=\"https://miptstats.github.io/courses/ad_fivt/CV_complex_examples.html\" target=\"_blank\">ноутбук</a> про перенос стиля и генеративные сети."
   ]
  },
  {
   "cell_type": "markdown",
   "metadata": {
    "id": "x-9Z1rmVW2Q1"
   },
   "source": [
    "---\n",
    "### Задача 1. Классификация MNIST\n"
   ]
  },
  {
   "cell_type": "markdown",
   "source": [
    "Цель: сравнить сверточные нейросети с разными параметрами на датасете рукописных цифр MNIST. В нем содержатся черно-белые изображения цифр, всего 10 классов для каждой цифры. Пользоваться кодом семинара можно без ограничений. Классификация MNIST намного легче, чем CIFAR, поэтому ваша задача хотя бы в одной из моделей получить 98% точности **на валидации**.\n",
    "\n",
    "> Использования слоев с семинара (свертка, pooling) более чем достаточно для достижения 98% точности на тесте. Также не делайте сеть глубокой.\n",
    "\n",
    "> Тестируйте работоспособность кода на CPU с небольшим кол-вом итераций. Если все работает, и хочется ускорить процесс, переходите на GPU.\n",
    "\n",
    "Следуйте указаниям ниже."
   ],
   "metadata": {
    "id": "FiPesei5d_6Y"
   }
  },
  {
   "cell_type": "markdown",
   "source": [
    "Загрузим датаcет из `torchvision.datasets`."
   ],
   "metadata": {
    "id": "aZiM2W4leua-"
   }
  },
  {
   "cell_type": "code",
   "source": [
    "# Данные для обучения\n",
    "train_dataset = torchvision.datasets.MNIST(root='./data', train=True,\n",
    "                                           download=True,\n",
    "                                           transform=transforms.ToTensor())\n",
    "# Данные для тестирования\n",
    "val_dataset = torchvision.datasets.MNIST(root='./data', train=False,\n",
    "                                         download=True,\n",
    "                                         transform=transforms.ToTensor())\n",
    "# Классы объектов в датасете\n",
    "classes = [str(i) for i in range(10)]"
   ],
   "metadata": {
    "id": "rIaFpD-8wmnc"
   },
   "execution_count": 33,
   "outputs": []
  },
  {
   "cell_type": "markdown",
   "source": [
    "Визуализируйте несколько картинок с соответствующими метками из датасета."
   ],
   "metadata": {
    "id": "S1y77vr0eyzK"
   }
  },
  {
   "cell_type": "code",
   "source": [
    "train_idx, val_idx = np.random.randint(0, 10000, 2)\n",
    "print(f\"Размер картинки:{train_dataset[0][0].shape}\")\n",
    "\n",
    "# визуализируем\n",
    "plt.figure(figsize=(4, 2))\n",
    "plt.subplot(1, 2, 1)\n",
    "plt.imshow(train_dataset[train_idx][0].permute(1, 2, 0))\n",
    "plt.title(f\"train[{train_idx}]: {classes[train_dataset[train_idx][1]]}\")\n",
    "plt.axis(\"off\")\n",
    "\n",
    "plt.subplot(1, 2, 2)\n",
    "plt.imshow(val_dataset[val_idx][0].permute(1, 2, 0))\n",
    "plt.title(f\"val[{val_idx}]: {classes[val_dataset[val_idx][1]]}\")\n",
    "plt.axis(\"off\");"
   ],
   "metadata": {
    "id": "LnpGySak1woQ"
   },
   "execution_count": 5,
   "outputs": [
    {
     "name": "stdout",
     "output_type": "stream",
     "text": [
      "Размер картинки:torch.Size([1, 28, 28])\n"
     ]
    },
    {
     "data": {
      "text/plain": "<Figure size 400x200 with 2 Axes>",
      "image/png": "[encoded data removed]"
     },
     "metadata": {},
     "output_type": "display_data"
    }
   ]
  },
  {
   "cell_type": "markdown",
   "source": [
    "Создайте генераторы батчей."
   ],
   "metadata": {
    "id": "aypFdgXdZpGQ"
   }
  },
  {
   "cell_type": "code",
   "source": [
    "batch_size = 64\n",
    "\n",
    "train_batch_gen = torch.utils.data.DataLoader(\n",
    "    train_dataset, batch_size=batch_size, shuffle=True\n",
    ")\n",
    "val_batch_gen = torch.utils.data.DataLoader(\n",
    "    val_dataset, batch_size=batch_size, shuffle=False\n",
    ")"
   ],
   "metadata": {
    "id": "ZxF48UxiZq2O"
   },
   "execution_count": 34,
   "outputs": []
  },
  {
   "cell_type": "code",
   "execution_count": 35,
   "outputs": [],
   "source": [
    "def print_epoch(epoch, num_epochs, history, t):\n",
    "    \"\"\"\n",
    "    Функция для вывода информации про эпоху.\n",
    "    :param epoch: номер эпохи\n",
    "    :param num_epochs: общее количество эпох\n",
    "    :param history: (dict) accuracy и loss на обучении и валидации (\"история\" обучения)\n",
    "    :param t: время эпохи в секундах\n",
    "    \"\"\"\n",
    "    clear_output(wait=True)\n",
    "    print(\"Epoch {} of {} took {:.3f} s\".format(epoch + 1, num_epochs, t))\n",
    "    print(\"  training loss: \\t{:.6f}\".format(history[\"loss\"][\"train\"][-1]))\n",
    "    print(\"  validation loss: \\t{:.6f}\".format(history[\"loss\"][\"val\"][-1]))\n",
    "    print(\n",
    "        \"  training accuracy: \\t\\t\\t{:.2f} %\".format(\n",
    "            history[\"acc\"][\"train\"][-1] * 100\n",
    "        )\n",
    "    )\n",
    "    print(\n",
    "        \"  validation accuracy: \\t\\t\\t{:.2f} %\".format(\n",
    "            history[\"acc\"][\"val\"][-1] * 100\n",
    "        )\n",
    "    )\n",
    "\n",
    "def update_history(history, loss, acc, num_batches, mode):\n",
    "    \"\"\"\n",
    "    Функция для сохранения лосса и точности в историю.\n",
    "    :param history: (dict) accuracy и loss на обучении и валидации (\"история\" обучения)\n",
    "    :param loss: сумма лосса за весь батч\n",
    "    :param acc: сумма точности за весь батч\n",
    "    :param num_batches: общее количество батчей\n",
    "    :param mode: train или val\n",
    "    \"\"\"\n",
    "    # Подсчитываем лоссы и сохраняем в \"историю\"\n",
    "    loss /= num_batches\n",
    "    acc /= num_batches\n",
    "    history[\"loss\"][mode].append(loss)\n",
    "    history[\"acc\"][mode].append(acc)\n",
    "\n",
    "def get_batch_loss(\n",
    "    X_batch, y_batch, model, criterion, current_loss, current_acc\n",
    "):\n",
    "    \"\"\"\n",
    "    Функция для подсчета лосса (без backward pass).\n",
    "    :param X_batch: батч картиок X\n",
    "    :param y_batch: батч меток y\n",
    "    :param model: модель для получения логитов\n",
    "    :param criterion: функция потерь\n",
    "    :param current_loss: текущий суммарный лосс за батч\n",
    "    :param current_acc: текущая суммарная точность за батч\n",
    "    :return: лосс на данном батче; current_loss; current_acc\n",
    "    \"\"\"\n",
    "\n",
    "    # Обучаемся на батче (одна \"итерация\" обучения нейросети)\n",
    "    X_batch = X_batch.to(device)\n",
    "    y_batch = y_batch.to(device)\n",
    "\n",
    "    # Логиты на выходе модели\n",
    "    logits = model(X_batch)\n",
    "\n",
    "    # Подсчитываем лосс\n",
    "    loss = criterion(logits, y_batch.long().to(device))\n",
    "\n",
    "    # Сохраняем лоссы и точность на трейне\n",
    "    current_loss += loss.detach().cpu().numpy()\n",
    "    y_pred = logits.max(1)[1].detach().cpu().numpy()\n",
    "    current_acc += np.mean(y_batch.cpu().numpy() == y_pred)\n",
    "    return loss, current_loss, current_acc\n",
    "\n",
    "def train(\n",
    "    model, criterion, optimizer, train_batch_gen, val_batch_gen, num_epochs=40\n",
    "):\n",
    "    \"\"\"\n",
    "    Функция для обучения модели и вывода лосса и метрики во время обучения.\n",
    "\n",
    "    :param model: обучаемая модель\n",
    "    :param criterion: функция потерь\n",
    "    :param optimizer: метод оптимизации\n",
    "    :param train_batch_gen: генератор батчей для обучения\n",
    "    :param val_batch_gen: генератор батчей для валидации\n",
    "    :param num_epochs: количество эпох\n",
    "    :return: (dict) accuracy и loss на обучении и валидации (\"история\" обучения)\n",
    "    \"\"\"\n",
    "\n",
    "    history = defaultdict(lambda: defaultdict(list))\n",
    "\n",
    "    for epoch in range(num_epochs):\n",
    "        train_loss, val_loss = 0, 0\n",
    "        train_acc, val_acc = 0, 0\n",
    "        start_time = time.time()\n",
    "\n",
    "        # ----------------------   ОБУЧЕНИЕ   ----------------------#\n",
    "        model.train(True)\n",
    "        # На каждой \"эпохе\" делаем полный проход по данным\n",
    "        for X_batch, y_batch in train_batch_gen:\n",
    "            # Считаем лосс, обновляем train_loss, train_acc\n",
    "            loss, train_loss, train_acc = get_batch_loss(\n",
    "                X_batch, y_batch, model, criterion, train_loss, train_acc\n",
    "            )\n",
    "\n",
    "            # Обратный проход\n",
    "            loss.backward()\n",
    "            # Шаг градиента\n",
    "            optimizer.step()\n",
    "            # Зануляем градиенты\n",
    "            optimizer.zero_grad()\n",
    "\n",
    "        # Подсчитываем лоссы и сохраняем в \"историю\"\n",
    "        update_history(\n",
    "            history, train_loss, train_acc, len(train_batch_gen), \"train\"\n",
    "        )\n",
    "\n",
    "        # ----------------------   ВАЛИДАЦИЯ   ----------------------#\n",
    "        model.train(False)\n",
    "        # Контекстный менеджер, отключающий подсчет градиентов\n",
    "        with torch.no_grad():\n",
    "            # Полный проход по валидационному датасету\n",
    "            for X_batch, y_batch in val_batch_gen:\n",
    "                # Считаем лосс, обновляем val_loss, val_acc\n",
    "                _, val_loss, val_acc = get_batch_loss(\n",
    "                    X_batch, y_batch, model, criterion, val_loss, val_acc\n",
    "                )\n",
    "\n",
    "        # Подсчитываем лоссы и сохраняем в \"историю\"\n",
    "        update_history(history, val_loss, val_acc, len(val_batch_gen), \"val\")\n",
    "\n",
    "        # Печатаем результаты после каждой эпохи\n",
    "        print_epoch(epoch, num_epochs, history, time.time() - start_time)\n",
    "\n",
    "    return history"
   ],
   "metadata": {
    "collapsed": false
   }
  },
  {
   "cell_type": "markdown",
   "source": [
    "**Эксперимент 1.** Создайте хотя бы 5 сверточных нейросетей с разным количеством линейных и сверточных слоев. Должен присутствовать хотя бы 1 сверточный слой и хотя бы 1 линейный слой. Для каждой посмотрите количество параметров с помощью `torchinfo.summary`."
   ],
   "metadata": {
    "id": "eKLKBG3OfBSR"
   }
  },
  {
   "cell_type": "code",
   "source": [
    "simple_cnn_1 = nn.Sequential(\n",
    "    nn.Conv2d(in_channels=1, out_channels=32, kernel_size=3),\n",
    "    nn.MaxPool2d(2),\n",
    "    nn.ReLU(),\n",
    "    nn.Conv2d(in_channels=32, out_channels=64, kernel_size=3),\n",
    "    nn.MaxPool2d(2),\n",
    "    nn.ReLU(),\n",
    "    nn.Flatten(),\n",
    "    nn.Linear(in_features=1600, out_features=256),\n",
    "    nn.ReLU(),\n",
    "    nn.Linear(in_features=256, out_features=10),\n",
    ").to(device)\n",
    "\n",
    "summary(simple_cnn_1, input_size=(1, 1, 28, 28))"
   ],
   "metadata": {
    "id": "XtDoy51q15s_"
   },
   "execution_count": 46,
   "outputs": [
    {
     "data": {
      "text/plain": "==========================================================================================\nLayer (type:depth-idx)                   Output Shape              Param #\n==========================================================================================\nSequential                               [1, 10]                   --\n├─Conv2d: 1-1                            [1, 32, 26, 26]           320\n├─MaxPool2d: 1-2                         [1, 32, 13, 13]           --\n├─ReLU: 1-3                              [1, 32, 13, 13]           --\n├─Conv2d: 1-4                            [1, 64, 11, 11]           18,496\n├─MaxPool2d: 1-5                         [1, 64, 5, 5]             --\n├─ReLU: 1-6                              [1, 64, 5, 5]             --\n├─Flatten: 1-7                           [1, 1600]                 --\n├─Linear: 1-8                            [1, 256]                  409,856\n├─ReLU: 1-9                              [1, 256]                  --\n├─Linear: 1-10                           [1, 10]                   2,570\n==========================================================================================\nTotal params: 431,242\nTrainable params: 431,242\nNon-trainable params: 0\nTotal mult-adds (M): 2.87\n==========================================================================================\nInput size (MB): 0.00\nForward/backward pass size (MB): 0.24\nParams size (MB): 1.72\nEstimated Total Size (MB): 1.97\n=========================================================================================="
     },
     "execution_count": 46,
     "metadata": {},
     "output_type": "execute_result"
    }
   ]
  },
  {
   "cell_type": "code",
   "execution_count": 12,
   "outputs": [
    {
     "data": {
      "text/plain": "==========================================================================================\nLayer (type:depth-idx)                   Output Shape              Param #\n==========================================================================================\nSequential                               [1, 128, 3, 3]            --\n├─Conv2d: 1-1                            [1, 32, 30, 30]           896\n├─MaxPool2d: 1-2                         [1, 32, 15, 15]           --\n├─ReLU: 1-3                              [1, 32, 15, 15]           --\n├─Conv2d: 1-4                            [1, 128, 13, 13]          36,992\n├─MaxPool2d: 1-5                         [1, 128, 3, 3]            --\n├─ReLU: 1-6                              [1, 128, 3, 3]            --\n==========================================================================================\nTotal params: 37,888\nTrainable params: 37,888\nNon-trainable params: 0\nTotal mult-adds (M): 7.06\n==========================================================================================\nInput size (MB): 0.01\nForward/backward pass size (MB): 0.40\nParams size (MB): 0.15\nEstimated Total Size (MB): 0.57\n=========================================================================================="
     },
     "execution_count": 12,
     "metadata": {},
     "output_type": "execute_result"
    }
   ],
   "source": [
    "simple_cnn_2 = nn.Sequential(\n",
    "    nn.Conv2d(in_channels=3, out_channels=32, kernel_size=3),\n",
    "    nn.MaxPool2d(2),\n",
    "    nn.ReLU(),\n",
    "    nn.Conv2d(in_channels=32, out_channels=128, kernel_size=3),\n",
    "    nn.MaxPool2d(4),\n",
    "    nn.ReLU(),\n",
    ").to(device)\n",
    "\n",
    "summary(simple_cnn_2, input_size=(1, 3, 32, 32))"
   ],
   "metadata": {
    "collapsed": false
   }
  },
  {
   "cell_type": "code",
   "execution_count": 13,
   "outputs": [
    {
     "data": {
      "text/plain": "==========================================================================================\nLayer (type:depth-idx)                   Output Shape              Param #\n==========================================================================================\nSequential                               [1, 768]                  --\n├─Conv2d: 1-1                            [1, 16, 14, 30]           448\n├─MaxPool2d: 1-2                         [1, 16, 7, 15]            --\n├─ReLU: 1-3                              [1, 16, 7, 15]            --\n├─Conv2d: 1-4                            [1, 64, 5, 13]            9,280\n├─MaxPool2d: 1-5                         [1, 64, 2, 6]             --\n├─ReLU: 1-6                              [1, 64, 2, 6]             --\n├─Flatten: 1-7                           [1, 768]                  --\n==========================================================================================\nTotal params: 9,728\nTrainable params: 9,728\nNon-trainable params: 0\nTotal mult-adds (M): 0.79\n==========================================================================================\nInput size (MB): 0.01\nForward/backward pass size (MB): 0.09\nParams size (MB): 0.04\nEstimated Total Size (MB): 0.13\n=========================================================================================="
     },
     "execution_count": 13,
     "metadata": {},
     "output_type": "execute_result"
    }
   ],
   "source": [
    "simple_cnn_3 = nn.Sequential(\n",
    "    nn.Conv2d(in_channels=3, out_channels=16, kernel_size=3),\n",
    "    nn.MaxPool2d(2),\n",
    "    nn.ReLU(),\n",
    "    nn.Conv2d(in_channels=16, out_channels=64, kernel_size=3),\n",
    "    nn.MaxPool2d(2),\n",
    "    nn.ReLU(),\n",
    "    nn.Flatten(),\n",
    ").to(device)\n",
    "\n",
    "summary(simple_cnn_3, input_size=(1, 3, 16, 32))"
   ],
   "metadata": {
    "collapsed": false
   }
  },
  {
   "cell_type": "code",
   "execution_count": 14,
   "outputs": [
    {
     "data": {
      "text/plain": "==========================================================================================\nLayer (type:depth-idx)                   Output Shape              Param #\n==========================================================================================\nSequential                               [1, 32, 6, 6]             --\n├─Conv2d: 1-1                            [1, 32, 30, 30]           896\n├─MaxPool2d: 1-2                         [1, 32, 6, 6]             --\n├─ReLU: 1-3                              [1, 32, 6, 6]             --\n==========================================================================================\nTotal params: 896\nTrainable params: 896\nNon-trainable params: 0\nTotal mult-adds (M): 0.81\n==========================================================================================\nInput size (MB): 0.01\nForward/backward pass size (MB): 0.23\nParams size (MB): 0.00\nEstimated Total Size (MB): 0.25\n=========================================================================================="
     },
     "execution_count": 14,
     "metadata": {},
     "output_type": "execute_result"
    }
   ],
   "source": [
    "simple_cnn_4 = nn.Sequential(\n",
    "    nn.Conv2d(in_channels=3, out_channels=32, kernel_size=3),\n",
    "    nn.MaxPool2d(5),\n",
    "    nn.ReLU(),\n",
    ").to(device)\n",
    "\n",
    "summary(simple_cnn_4, input_size=(1, 3, 32, 32))"
   ],
   "metadata": {
    "collapsed": false
   }
  },
  {
   "cell_type": "code",
   "execution_count": 15,
   "outputs": [
    {
     "data": {
      "text/plain": "==========================================================================================\nLayer (type:depth-idx)                   Output Shape              Param #\n==========================================================================================\nSequential                               [1, 64, 15, 15]           --\n├─Conv2d: 1-1                            [1, 64, 61, 61]           4,160\n├─MaxPool2d: 1-2                         [1, 64, 15, 15]           --\n├─ReLU: 1-3                              [1, 64, 15, 15]           --\n==========================================================================================\nTotal params: 4,160\nTrainable params: 4,160\nNon-trainable params: 0\nTotal mult-adds (M): 15.48\n==========================================================================================\nInput size (MB): 0.07\nForward/backward pass size (MB): 1.91\nParams size (MB): 0.02\nEstimated Total Size (MB): 1.99\n=========================================================================================="
     },
     "execution_count": 15,
     "metadata": {},
     "output_type": "execute_result"
    }
   ],
   "source": [
    "simple_cnn_5 = nn.Sequential(\n",
    "    nn.Conv2d(in_channels=4, out_channels=64, kernel_size=4),\n",
    "    nn.MaxPool2d(4),\n",
    "    nn.ReLU(),\n",
    ").to(device)\n",
    "\n",
    "summary(simple_cnn_5, input_size=(1, 4, 64, 64))"
   ],
   "metadata": {
    "collapsed": false
   }
  },
  {
   "cell_type": "markdown",
   "source": [
    "Обучите сети, используя функцию потерь `nn.CrossEntropyLoss` и оптимизатор `torch.optim.Adam` с дефолтными параметрами."
   ],
   "metadata": {
    "id": "PQiEK0kQgUVs"
   }
  },
  {
   "cell_type": "code",
   "execution_count": 47,
   "metadata": {
    "execution": {
     "iopub.execute_input": "2022-11-29T02:06:46.314950Z",
     "iopub.status.busy": "2022-11-29T02:06:46.313963Z",
     "iopub.status.idle": "2022-11-29T02:15:25.832768Z",
     "shell.execute_reply": "2022-11-29T02:15:25.831808Z",
     "shell.execute_reply.started": "2022-11-29T02:06:46.314912Z"
    },
    "id": "EnEk2EiJVJog"
   },
   "outputs": [
    {
     "name": "stdout",
     "output_type": "stream",
     "text": [
      "Epoch 40 of 40 took 24.352 s\n",
      "  training loss: \t0.000006\n",
      "  validation loss: \t0.056499\n",
      "  training accuracy: \t\t\t100.00 %\n",
      "  validation accuracy: \t\t\t99.24 %\n"
     ]
    }
   ],
   "source": [
    "criterion = nn.CrossEntropyLoss()\n",
    "optimizer = torch.optim.Adam(simple_cnn_1.parameters())\n",
    "\n",
    "history_cnn_1 = train(\n",
    "    simple_cnn_1,\n",
    "    criterion,\n",
    "    optimizer,\n",
    "    train_batch_gen,\n",
    "    val_batch_gen,\n",
    "    num_epochs=40,\n",
    ")\n",
    "# Сохраняем веса модели в файл\n",
    "torch.save(simple_cnn_1.state_dict(), \"simple_cnn.pth\")\n"
   ]
  },
  {
   "cell_type": "markdown",
   "source": [
    "Постройте график лосса и график accuracy, где сравниваются все модели (на train и на val). Нужная функция есть в семинаре."
   ],
   "metadata": {
    "id": "HKeKUcptgylG"
   }
  },
  {
   "cell_type": "code",
   "source": [],
   "metadata": {
    "id": "C-tIcHs_bZ28"
   },
   "execution_count": null,
   "outputs": []
  },
  {
   "cell_type": "markdown",
   "source": [
    "Сделайте вывод. Как количество разных слоев влияет на качество и время обучения?\n",
    "\n",
    "**Вывод по эксперименту 1:** <...>"
   ],
   "metadata": {
    "id": "dm2vwgrVlkj-"
   }
  },
  {
   "cell_type": "markdown",
   "source": [
    "**Эксперимент 2.** Теперь выберите лучший вариант, зафиксируйте это количество сверточных и линейных слоев и обучите хотя бы 4 сверточных нейросети, варьируя размеры ядер сверток. Например, в разном порядке поставьте ядра 3x3, 5x5."
   ],
   "metadata": {
    "id": "htYb8OWXehWB"
   }
  },
  {
   "cell_type": "code",
   "source": [],
   "metadata": {
    "id": "vGaa6OZKfxuz"
   },
   "execution_count": null,
   "outputs": []
  },
  {
   "cell_type": "markdown",
   "source": [
    "Постройте график лосса и график accuracy, где сравниваются все модели этого эксперимента (на train и на val)."
   ],
   "metadata": {
    "id": "cgvL8CP6fype"
   }
  },
  {
   "cell_type": "code",
   "source": [],
   "metadata": {
    "id": "dW4ZP422fypf"
   },
   "execution_count": null,
   "outputs": []
  },
  {
   "cell_type": "markdown",
   "source": [
    "Сделайте вывод. Как размеры ядер влияют на качество и время обучения?\n",
    "\n",
    "**Вывод по эксперименту 2:** <...>"
   ],
   "metadata": {
    "id": "MUy9v-IAltAP"
   }
  },
  {
   "cell_type": "markdown",
   "source": [
    "**Анализ лучшей модели.** Выберите лучшую конфигурацию из всех по accuracy на валидации. Она должна быть не меньше 98%."
   ],
   "metadata": {
    "id": "bqLZr0CCdV-p"
   }
  },
  {
   "cell_type": "code",
   "source": [],
   "metadata": {
    "id": "ztRtP5VtgQ3h"
   },
   "execution_count": null,
   "outputs": []
  },
  {
   "cell_type": "markdown",
   "source": [
    "Проведите еще один проход валидации выбранной моделью по всему датасету. В нем посчитайте точность по каждому классу и соберите информацию о неправильных предсказаниях. Равномерна ли точность по отношению к классам? Покажите 10-20 примеров, на которых нейросеть выдала неправильную метку. Что можно о них сказать?"
   ],
   "metadata": {
    "id": "TMPEvu2bg3Zc"
   }
  },
  {
   "cell_type": "code",
   "source": [],
   "metadata": {
    "id": "A94g5BGz6uU4"
   },
   "execution_count": null,
   "outputs": []
  },
  {
   "cell_type": "markdown",
   "metadata": {
    "id": "KVfdfsXZnhcs"
   },
   "source": [
    "**Ответ:** <...>"
   ]
  },
  {
   "cell_type": "markdown",
   "metadata": {
    "id": "a_EvDaB7W2Q2"
   },
   "source": [
    "**Вывод по всей задаче:** <...>"
   ]
  },
  {
   "cell_type": "markdown",
   "metadata": {
    "id": "EWHsMVWwW2Q2"
   },
   "source": [
    "---\n",
    "### Задача 2. Перенос стиля"
   ]
  },
  {
   "cell_type": "markdown",
   "source": [
    "Здесь вы потренируетесь в работе с картинками и составлением промптов. Используя код с <a href=\"https://miptstats.github.io/courses/ad_fivt/CV_complex_examples.html\" target=\"_blank\">семинара</a>, проведите перенос стиля на хотя бы 3 своих примерах.\n",
    "\n",
    "> Заметьте, что в примерах с семинара в качестве картинок стиля и контента использовались картинки среднего разрешения. Если возникают проблемы: оптимизация останавливается на 0-й эпохе и не создает картинку; loss в какой-то момент стал nan; нехватка RAM; &mdash; то либо уменьшите разрешение ваших картинок, либо попробуйте картинку полегче."
   ],
   "metadata": {
    "id": "33gKkfQz2mIx"
   }
  },
  {
   "cell_type": "code",
   "source": [],
   "metadata": {
    "id": "Syn9JDq04ISQ"
   },
   "execution_count": null,
   "outputs": []
  },
  {
   "cell_type": "markdown",
   "source": [
    "Теперь для каждой пары контекст-стиль попытайтесь сгенерировать картинку с таким контекстом и стилем с помощью диффузионной модели, рассмотренной на семинаре, задав нужный промпт."
   ],
   "metadata": {
    "id": "I2yeDQMz4IiY"
   }
  },
  {
   "cell_type": "code",
   "source": [],
   "metadata": {
    "id": "oQ_6F1NP47ot"
   },
   "execution_count": null,
   "outputs": []
  },
  {
   "cell_type": "markdown",
   "metadata": {
    "id": "zPoMmyGgW2Q3"
   },
   "source": [
    "**Вывод:**\n",
    "<...>"
   ]
  }
 ],
 "metadata": {
  "colab": {
   "provenance": [],
   "gpuType": "T4"
  },
  "kernelspec": {
   "display_name": "Python 3",
   "name": "python3"
  },
  "language_info": {
   "codemirror_mode": {
    "name": "ipython",
    "version": 3
   },
   "file_extension": ".py",
   "mimetype": "text/x-python",
   "name": "python",
   "nbconvert_exporter": "python",
   "pygments_lexer": "ipython3",
   "version": "3.8.10"
  },
  "accelerator": "GPU"
 },
 "nbformat": 4,
 "nbformat_minor": 0
}
