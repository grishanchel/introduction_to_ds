{
 "cells": [
  {
   "cell_type": "markdown",
   "metadata": {
    "id": "Kb_PVxXaW2Qy"
   },
   "source": [
    "# <a href=\"https://miptstats.github.io/courses/ad_fivt.html\">Введение в анализ данных</a>\n",
    "## Домашнее задание 4. Нейронные сети.\n"
   ]
  },
  {
   "cell_type": "markdown",
   "metadata": {
    "id": "duMi1QifW2Qz"
   },
   "source": [
    "**Правила, <font color=\"red\">прочитайте внимательно</font>:**\n",
    "\n",
    "* Выполненную работу нужно отправить телеграм-боту `@miptstats_ds24_bot`. Для начала работы с ботом каждый раз отправляйте `/start`. **Работы, присланные иным способом, не принимаются.**\n",
    "* Дедлайн см. в боте. После дедлайна работы не принимаются кроме случаев наличия уважительной причины.\n",
    "* Прислать нужно **ноутбук в формате `ipynb`**.\n",
    "* Следите за размером файлов. **Бот не может принимать файлы весом более 20 Мб.** Если файл получается больше, заранее разделите его на несколько.\n",
    "* Выполнять задание необходимо полностью самостоятельно. **При обнаружении списывания все участники списывания будут сдавать устный зачет.**\n",
    "* Решения, размещенные на каких-либо интернет-ресурсах, не принимаются. Кроме того, публикация решения в открытом доступе может быть приравнена к предоставлении возможности списать.\n",
    "* Для выполнения задания используйте этот ноутбук в качестве основы, ничего не удаляя из него. Можно добавлять необходимое количество ячеек.\n",
    "* Комментарии к решению пишите в markdown-ячейках.\n",
    "* Выполнение задания (ход решения, выводы и пр.) должно быть осуществлено на русском языке.\n",
    "* Если код будет не понятен проверяющему, оценка может быть снижена.\n",
    "* Никакой код из данного задания при проверке запускаться не будет. *Если код студента не выполнен, недописан и т.д., то он не оценивается.*\n",
    "\n",
    "**Правила оформления теоретических задач:**\n",
    "\n",
    "* Решения необходимо прислать одним из следующих способов:\n",
    "  * фотографией в правильной ориентации, где все четко видно, а почерк разборчив,\n",
    "    * отправив ее как файл боту вместе с ноутбуком *или*\n",
    "    * вставив ее в ноутбук посредством `Edit -> Insert Image`;\n",
    "  * в виде $LaTeX$ в markdown-ячейках.\n",
    "* Решения не проверяются, если какое-то требование не выполнено. Особенно внимательно все проверьте в случае выбора второго пункта (вставки фото в ноутбук). <font color=\"red\"><b>Неправильно вставленные фотографии могут не передаться при отправке.</b></font> Для проверки попробуйте переместить `ipynb` в другую папку и открыть его там.\n",
    "* В решениях поясняйте, чем вы пользуетесь, хотя бы кратко. Например, если пользуетесь независимостью, то достаточно подписи вида \"*X и Y незав.*\"\n",
    "* Решение, в котором есть только ответ, и отсутствуют вычисления, оценивается в 0 баллов.\n",
    "\n",
    "\n",
    "\n",
    "\n",
    "\n",
    "**Баллы за задание:**\n",
    "\n",
    "<b><font color=\"blue\">Легкая часть</font></b> (достаточно на \"хор\"):\n",
    "* Задача 1 &mdash; 60 баллов\n",
    "* Задача 2 &mdash; 30 баллов\n",
    "\n",
    "<b><font color=\"orange\">Сложная часть</font></b> (необходимо на \"отл\"):\n",
    "* Задача 3 &mdash; 60 баллов\n"
   ]
  },
  {
   "cell_type": "code",
   "execution_count": null,
   "metadata": {
    "id": "pWZ4wmCvW2Q0"
   },
   "outputs": [],
   "source": [
    "# Bot check\n",
    "\n",
    "# HW_ID: fpmi_ad4\n",
    "# Бот проверит этот ID и предупредит, если случайно сдать что-то не то.\n",
    "\n",
    "# Status: final\n",
    "# Перед отправкой в финальном решении удали \"not\" в строчке выше.\n",
    "# Так бот проверит, что ты отправляешь финальную версию, а не промежуточную.\n",
    "# Никакие значения в этой ячейке не влияют на факт сдачи работы."
   ]
  },
  {
   "cell_type": "code",
   "execution_count": 42,
   "metadata": {
    "id": "ht9Xm0EucoAr"
   },
   "outputs": [],
   "source": [
    "import numpy as np\n",
    "import scipy.stats as sps\n",
    "\n",
    "import matplotlib.pyplot as plt\n",
    "import seaborn as sns\n",
    "\n",
    "sns.set(font_scale=1.2, palette='Set2')\n",
    "%matplotlib inline\n",
    "\n",
    "import torch\n",
    "import torch.nn as nn\n",
    "from torch import optim\n",
    "import matplotlib.pyplot as plt\n",
    "from IPython.display import clear_output\n",
    "\n",
    "from sklearn.linear_model import LinearRegression\n",
    "from sklearn.metrics import mean_squared_error\n",
    "from sklearn.model_selection import train_test_split"
   ]
  },
  {
   "cell_type": "markdown",
   "metadata": {
    "id": "2M__0kK2W2Q1"
   },
   "source": [
    "Перед выполнением задания обязательно посмотрите <a href=\"https://miptstats.github.io/courses/ad_fivt/lecture4.pdf\" target=\"_blank\">презентацию</a> и <a href=\"https://miptstats.github.io/courses/ad_fivt/nn_simple_examples.html\" target=\"_blank\">обучающий ноутбук</a> с занятия по нейронным сетям."
   ]
  },
  {
   "cell_type": "markdown",
   "metadata": {
    "id": "NtWewpfoLl5S"
   },
   "source": [
    "---\n",
    "### <font color=\"blue\"><i>Легкая часть</i></font>"
   ]
  },
  {
   "cell_type": "markdown",
   "metadata": {
    "id": "x-9Z1rmVW2Q1"
   },
   "source": [
    "---\n",
    "### Задача 1.\n",
    "\n",
    "Рассмотрим двухслойную нейронную сеть, которая принимает на вход $x\\in\\mathbb{R}$ и возвращает $y\\in\\mathbb{R}$. Выход первого слоя возвращает $u \\in\\mathbb{R}^2$. После первого слоя используется функция активации $\\sigma(x) = \\frac{1}{1 + \\exp(-x)}$, после второго слоя функция активации не используется (или используется тождественная). Тем самым нашу нейронную можно представить в виде\n",
    "\n",
    "$$\\widehat{y}(x) = \\sum_{h=1}^2 w_{2h}u_h(x) + b_2,$$\n",
    "\n",
    "$$u_h(x) = \\sigma(w_{1h}x + b_{1h}),$$\n",
    "\n",
    "$$\\text{где} \\; h \\in \\{1, 2\\}.$$\n",
    "\n"
   ]
  },
  {
   "cell_type": "markdown",
   "metadata": {
    "id": "4eii8MGZW2Q1"
   },
   "source": [
    "**1.** Нарисуйте схематически данную нейронную сеть. Сколько у нее обучаемых параметров?"
   ]
  },
  {
   "cell_type": "markdown",
   "metadata": {
    "id": "REawtgDJW2Q1"
   },
   "source": [
    "..."
   ]
  },
  {
   "cell_type": "markdown",
   "metadata": {
    "id": "b8DZXIx7W2Q2"
   },
   "source": [
    "**2.** Пусть нам дана обучающая выборка $(X_1, Y_1), ..., (X_n, Y_n)$, где $X_i \\in \\mathbb{R}$ и $Y_i \\in \\mathbb{R}$. Нейронная сеть обучается по этой выборке, минимизируя заданную функцию $L$ &mdash; функцию ошибки. Положим, что $L$ &mdash; это MSE:\n",
    "$$\\text{MSE} = L(X, Y) = \\frac{1}{n}\\sum_{i=1}^n \\big(Y_i - \\widehat{y}(X_i)\\big)^2.$$\n",
    "\n",
    "Наша задача &mdash; найти оптимальные параметры нашей модели для минимизации $L(X, Y)$ на заданном наборе данных. Мы будем решать эту задачу с помощью градиентного спуска. Для этого нам понадобится выписать производные по всем параметрам сети. Конечно, в данном случае довольно просто выписать все производные напрямую. Однако мы воспользуемся следующей хитростью: мы будем считать производные поэтапно, причем начнем с конца вычислительной цепочки и, используя формулу производной сложной функции, последовательно посчитаем все необходимые производные. Этот процесс называется методом **обратного распространения ошибки (backpropagation)**."
   ]
  },
  {
   "cell_type": "markdown",
   "metadata": {
    "id": "sns2ZZArW2Q2"
   },
   "source": [
    "**2.1.** Начнем с производной MSE по выходам сети\n",
    "$$\\frac{\\partial\\:\\text{MSE}}{\\partial \\widehat{y}(X_i)} = \\; ...$$"
   ]
  },
  {
   "cell_type": "markdown",
   "metadata": {
    "id": "mN2TO-MAW2Q2"
   },
   "source": [
    "**2.2** Возьмем производные выходов сети по параметрам последнего слоя\n",
    "\n",
    "$$\\frac{\\partial \\widehat{y}(X_i)}{\\partial w_{2h}} = \\; ...$$\n",
    "\n",
    "$$\\frac{\\partial \\widehat{y}(X_i)}{\\partial b_2} = \\; ...$$\n",
    "\n",
    "Также выпишем производные выходов сети по входам последнего слоя\n",
    "\n",
    "$$\\frac{\\partial \\widehat{y}(X_i)}{\\partial u_h(X_i)} = \\; ...$$\n",
    "\n",
    "Теперь выпишем производные MSE по параметрам и входам последнего слоя. Для этого вспомните правило производной сложной функции из математического анализа. Обратите внимание на то, что нам не нужно прописывать все производные до конца, достаточно заполнить пропуски в записи ниже:\n",
    "\n",
    "$$\\frac{\\partial\\:\\text{MSE}}{\\partial w_{2h}} = \\sum_{i=1}^n \\frac{\\partial\\:\\text{MSE}}{\\partial ...} \\frac{\\partial ...}{\\partial w_{2h}}$$\n",
    "\n",
    "$$\\frac{\\partial\\:\\text{MSE}}{\\partial b_2} = \\sum_{i=1}^n \\frac{\\partial\\:\\text{MSE}}{\\partial ...} \\frac{\\partial ...}{\\partial b_2}$$\n",
    "\n",
    "$$\\frac{\\partial\\:\\text{MSE}}{\\partial u_h} = \\sum_{i=1}^n \\frac{\\partial\\:\\text{MSE}}{\\partial ...} \\frac{\\partial ...}{\\partial u_h}$$"
   ]
  },
  {
   "cell_type": "markdown",
   "metadata": {
    "id": "u4_alAF5W2Q2"
   },
   "source": [
    "**2.2.** Теперь будем разбираться с производными по параметрам первого слоя.\n",
    "\n",
    "Для начала нам пригодится производная функции активации, запишите ее так, чтобы ответе осталась функция от $\\sigma(x)$\n",
    "\n",
    "$$\\frac{\\partial\\:\\sigma(x)}{\\partial x} = \\; ...$$\n",
    "\n",
    "Теперь возьмем производные выходов первого слоя по его параметрам\n",
    "\n",
    "$$\\frac{\\partial u_h(X_i)}{\\partial w_{1h}} = \\; ...$$\n",
    "\n",
    "$$\\frac{\\partial u_h(X_i)}{\\partial b_{1h}} = \\; ...$$\n",
    "\n",
    "Наконец, выпишем производные MSE по параметрам первого слоя. Так же как и раньше достаточно заполнить пропуски в записи ниже\n",
    "\n",
    "$$\\frac{\\partial\\:\\text{MSE}}{\\partial w_{1h}} = \\; \\sum_{i=1}^n \\frac{\\partial\\:\\text{MSE}}{\\partial ...} \\frac{\\partial ...}{\\partial w_{1h}}$$\n",
    "\n",
    "$$\\frac{\\partial\\:\\text{MSE}}{\\partial b_{1h}} = \\; \\sum_{i=1}^n \\frac{\\partial\\:\\text{MSE}}{\\partial ...} \\frac{\\partial ...}{\\partial b_{1h}}$$"
   ]
  },
  {
   "cell_type": "markdown",
   "metadata": {
    "id": "T9TejlitW2Q2"
   },
   "source": [
    "**3.** Пусть обучающая выборка очень большая. Что нужно делать в таком случае? Запишите, как нужно поменять правило обновления параметров.\n",
    "\n",
    "..."
   ]
  },
  {
   "cell_type": "markdown",
   "metadata": {
    "id": "a_EvDaB7W2Q2"
   },
   "source": [
    "**Вывод:**\n",
    "..."
   ]
  },
  {
   "cell_type": "markdown",
   "source": [
    "---\n",
    "### Задача 2.\n",
    "\n",
    "Напишите нейронную сеть из задачи 1 с помощью библиотеки `pytorch`, используя Sequential-стиль. Перед выполнением задачи рекомендуется посмотреть <a href=\"https://miptstats.github.io/courses/ad_fivt/nn_simple_examples.html#3.-Готовые-модули-из-PyTorch\" target=\"_blank\">ноутбук</a> с занятия. Функция активации реализована как `torch.nn.Sigmoid`.\n",
    "\n",
    "*Внимание.* Для выполнения задачи потребуется установить библиотеку `pytorch`. Альтернативный вариант &mdash; выполнение в <a href=\"https://colab.research.google.com\" target=\"_blank\">Google Colab</a>. Учитывайте, что при длительном бездействии Colab может сам завершить работу ядра."
   ],
   "metadata": {
    "collapsed": false
   }
  },
  {
   "cell_type": "code",
   "execution_count": 3,
   "metadata": {
    "id": "R03tSHFoW2Q4"
   },
   "outputs": [
    {
     "data": {
      "text/plain": "<Figure size 1000x700 with 1 Axes>",
      "image/png": "[encoded data removed]"
     },
     "metadata": {},
     "output_type": "display_data"
    },
    {
     "name": "stdout",
     "output_type": "stream",
     "text": [
      "MSE = 12.202\n"
     ]
    }
   ],
   "source": [
    "x = torch.FloatTensor([3, 4, 5, 6, 7, 8, 2, 33, 3, 4, 5])\n",
    "y = torch.FloatTensor([13, 4, 5, 8, 7, 9, 10, 30, 3, 1, 2])\n",
    "\n",
    "x = x.view(-1, 1)\n",
    "y = y.view(-1, 1)\n",
    "\n",
    "model = nn.Sequential(\n",
    "    nn.Linear(1, 2),\n",
    "    nn.Sigmoid(),\n",
    "    nn.Linear(2, 1)\n",
    ")\n",
    "\n",
    "for param in model.parameters():\n",
    "    nn.init.constant_(param, 1.0)\n",
    "\n",
    "optimizer = torch.optim.SGD(model.parameters(), lr=0.01)\n",
    "optim_func = nn.MSELoss()\n",
    "\n",
    "num_epochs = 1000\n",
    "for epoch in range(num_epochs):\n",
    "    optimizer.zero_grad()\n",
    "    outputs = model(x)\n",
    "    loss = optim_func(outputs, y)\n",
    "    loss.backward()\n",
    "    optimizer.step()\n",
    "\n",
    "    if (epoch + 1) % 100 == 0:\n",
    "        clear_output(wait=True)\n",
    "\n",
    "with torch.no_grad():\n",
    "    y_pred = model(x)\n",
    "    plt.figure(figsize=(10, 7))\n",
    "    plt.scatter(x.numpy(), y.numpy(), alpha=0.75)\n",
    "    plt.scatter(x.numpy(), y_pred.numpy(), color='orange', linewidth=5)\n",
    "    plt.show()\n",
    "\n",
    "    print(f\"MSE = {loss:.3f}\")\n"
   ]
  },
  {
   "cell_type": "markdown",
   "metadata": {
    "id": "t1_H2ptPW2Q3"
   },
   "source": [
    "Сгенерируем данные. Возьмите какую-либо нелинейную функцию $y(x)$."
   ]
  },
  {
   "cell_type": "code",
   "execution_count": 53,
   "metadata": {
    "id": "nIB7KwUMW2Q3"
   },
   "outputs": [],
   "source": [
    "np.random.seed(42)\n",
    "\n",
    "sample_size = int(1e6)\n",
    "\n",
    "X_ = sps.norm.rvs(size=(sample_size, 1))\n",
    "Y_ = np.sin(X_[:, 0])\n",
    "X_train, X_test = train_test_split(X_, test_size=0.2)\n",
    "Y_train = np.sin(X_train[:, 0])\n",
    "Y_test = np.sin(X_test[:, 0])\n"
   ]
  },
  {
   "cell_type": "markdown",
   "metadata": {
    "id": "JLhEEGwOW2Q4"
   },
   "source": [
    "Обучите нейросеть на этих данных. Используйте код с занятия."
   ]
  },
  {
   "cell_type": "code",
   "execution_count": 24,
   "metadata": {
    "id": "TGAZcfvNW2Q4"
   },
   "outputs": [
    {
     "data": {
      "text/plain": "<Figure size 1000x700 with 1 Axes>",
      "image/png": "[encoded data removed]"
     },
     "metadata": {},
     "output_type": "display_data"
    },
    {
     "name": "stdout",
     "output_type": "stream",
     "text": [
      "MSE = 0.038\n"
     ]
    }
   ],
   "source": [
    "X = torch.tensor(X_train, dtype=torch.float32)\n",
    "y = torch.tensor(Y_train, dtype=torch.float32)\n",
    "\n",
    "X = X.view(-1, 1)\n",
    "y = y.view(-1, 1)\n",
    "\n",
    "model = nn.Sequential(\n",
    "    nn.Linear(1, 2),\n",
    "    nn.Sigmoid(),\n",
    "    nn.Linear(2, 1)\n",
    ")\n",
    "\n",
    "for param in model.parameters():\n",
    "    nn.init.constant_(param, 1.0)\n",
    "\n",
    "optimizer = torch.optim.SGD(model.parameters(), lr=0.01)\n",
    "optim_func = nn.MSELoss()\n",
    "\n",
    "num_epochs = 1000\n",
    "for epoch in range(num_epochs):\n",
    "    optimizer.zero_grad()\n",
    "    outputs = model(X)\n",
    "    loss = optim_func(outputs, y)\n",
    "    loss.backward()\n",
    "    optimizer.step()\n",
    "\n",
    "    if (epoch + 1) % 100 == 0:\n",
    "        clear_output(wait=True)\n",
    "\n",
    "\n",
    "with torch.no_grad():\n",
    "    y_pred = model(X)\n",
    "    plt.figure(figsize=(10, 7))\n",
    "    plt.scatter(X.numpy(), y.numpy(), alpha=0.75)\n",
    "    plt.scatter(X.numpy(), y_pred.numpy(), color='orange', linewidth=5)\n",
    "    plt.title('приближение функции sinx')\n",
    "    plt.show()\n",
    "\n",
    "    print(f\"MSE = {loss:.3f}\")"
   ]
  },
  {
   "cell_type": "markdown",
   "source": [
    "Визуализируйте предсказания и посчитайте MSE на тестовой части данных."
   ],
   "metadata": {
    "collapsed": false
   }
  },
  {
   "cell_type": "code",
   "execution_count": 28,
   "outputs": [
    {
     "data": {
      "text/plain": "<Figure size 1000x700 with 1 Axes>",
      "image/png": "[encoded data removed]"
     },
     "metadata": {},
     "output_type": "display_data"
    },
    {
     "name": "stdout",
     "output_type": "stream",
     "text": [
      "MSE на тестовой выборке = 0.038\n"
     ]
    }
   ],
   "source": [
    "X = torch.tensor(X_test, dtype=torch.float32)\n",
    "y = torch.tensor(Y_test, dtype=torch.float32)\n",
    "\n",
    "X = X.view(-1, 1)\n",
    "y = y.view(-1, 1)\n",
    "\n",
    "model = nn.Sequential(\n",
    "    nn.Linear(1, 2),\n",
    "    nn.Sigmoid(),\n",
    "    nn.Linear(2, 1)\n",
    ")\n",
    "\n",
    "for param in model.parameters():\n",
    "    nn.init.constant_(param, 1.0)\n",
    "\n",
    "optimizer = torch.optim.SGD(model.parameters(), lr=0.01)\n",
    "optim_func = nn.MSELoss()\n",
    "\n",
    "num_epochs = 1000\n",
    "for epoch in range(num_epochs):\n",
    "    optimizer.zero_grad()\n",
    "    outputs = model(X)\n",
    "    loss = optim_func(outputs, y)\n",
    "    loss.backward()\n",
    "    optimizer.step()\n",
    "\n",
    "    if (epoch + 1) % 100 == 0:\n",
    "        clear_output(wait=True)\n",
    "\n",
    "\n",
    "with torch.no_grad():\n",
    "    y_pred = model(X)\n",
    "    plt.figure(figsize=(10, 7))\n",
    "    plt.scatter(X.numpy(), y.numpy(), alpha=0.75)\n",
    "    plt.scatter(X.numpy(), y_pred.numpy(), color='orange', linewidth=5)\n",
    "    plt.title('приближение функции sinx')\n",
    "    plt.show()\n",
    "\n",
    "    print(f\"MSE на тестовой выборке = {loss:.3f}\")"
   ],
   "metadata": {
    "collapsed": false
   }
  },
  {
   "cell_type": "markdown",
   "metadata": {
    "id": "zPoMmyGgW2Q3"
   },
   "source": [
    "**Вывод:**\n",
    "В данной задаче я убрал функцию show_progress.\n",
    "Во втором примере можно заметить что обучение происходит заметно дольше из-за размера обучающей выборки. Итоговое приближение получается не очень качественным, но при этом MSE очень маленькое. Думаю, что следует использовать другую функию ошибки."
   ]
  },
  {
   "cell_type": "markdown",
   "metadata": {
    "id": "RRw1Pk9ZM4Wn"
   },
   "source": [
    "---\n",
    "### <font color=\"orange\"><i>Сложная часть</i></font>"
   ]
  },
  {
   "cell_type": "markdown",
   "source": [
    "---\n",
    "### Задача 3.\n",
    "\n",
    "Теперь реализуйте класс нейронной сети из задачи 1 в стиле scikit-learn, например, см. <a href=\"https://miptstats.github.io/courses/ad_fivt/task3.html#Задача-4.\" target=\"_blank\">шаблон класса задачи 4 из задания 3</a>. Предусмотрите возможность обучения по случайным батчам. При реализации можно использовать только библиотеку `numpy`."
   ],
   "metadata": {
    "collapsed": false
   }
  },
  {
   "cell_type": "code",
   "execution_count": 37,
   "metadata": {
    "id": "4tXV_LMcW2Q2"
   },
   "outputs": [],
   "source": [
    "class NeuralNetwork:\n",
    "    def __init__(self, input_size, hidden_size, output_size):\n",
    "        '''\n",
    "        Инициализация нейронной сети.\n",
    "\n",
    "        Аргументы:\n",
    "        input_size -- размер входного слоя;\n",
    "        hidden_size -- размер скрытого слоя;\n",
    "        output_size -- размер выходного слоя.\n",
    "        '''\n",
    "\n",
    "        self.input_size = input_size\n",
    "        self.hidden_size = hidden_size\n",
    "        self.output_size = output_size\n",
    "\n",
    "        self.w21 = np.random.randn(hidden_size, input_size)\n",
    "        self.w22 = np.random.randn(hidden_size, input_size)\n",
    "        self.b2 = np.zeros((hidden_size, 1))\n",
    "        self.wout = np.random.randn(output_size, hidden_size)\n",
    "        self.bout = np.zeros((output_size, 1))\n",
    "\n",
    "    def sigmoid(self, x):\n",
    "        return 1 / (1 + np.exp(-x))\n",
    "\n",
    "    def forward(self, X):\n",
    "        self.num1 = np.dot(self.w21, X.T) + self.b2\n",
    "        self.num2 = np.dot(self.w22, X.T) + self.b2\n",
    "        self.hidden_output = self.sigmoid(self.num1)\n",
    "        self.output = np.dot(self.wout, self.hidden_output) + self.bout\n",
    "        return self.output.T\n",
    "\n",
    "    def fit(self, X, Y, batch_size=32):\n",
    "        learning_rate = 0.01\n",
    "        num_epochs = 1000\n",
    "        num_samples = X.shape[0]\n",
    "\n",
    "        for epoch in range(num_epochs):\n",
    "            for i in range(0, num_samples, batch_size):\n",
    "                # Получаем батчи данных\n",
    "                batch_X = X[i:i+batch_size]\n",
    "                batch_Y = Y[i:i+batch_size]\n",
    "\n",
    "                output = self.forward(batch_X)\n",
    "\n",
    "                grad_output = 2 * (output - np.array(batch_Y)) / len(batch_Y)\n",
    "                grad_wout = np.dot(grad_output.T, self.hidden_output.T)\n",
    "                grad_bout = np.sum(grad_output, axis=0, keepdims=True).T\n",
    "                grad_hidden = np.dot(self.wout.T, grad_output.T) * self.hidden_output * (1 - self.hidden_output)\n",
    "                grad_w21 = np.dot(grad_hidden, batch_X)\n",
    "                grad_w22 = np.dot(grad_hidden, batch_X)\n",
    "                grad_b2 = np.sum(grad_hidden, axis=1, keepdims=True)\n",
    "\n",
    "                self.w21 -= learning_rate * grad_w21\n",
    "                self.w22 -= learning_rate * grad_w22\n",
    "                self.b2 -= learning_rate * grad_b2\n",
    "                self.wout -= learning_rate * grad_wout\n",
    "                self.bout -= learning_rate * grad_bout\n",
    "\n",
    "        return self\n",
    "\n",
    "\n",
    "    def predict(self, X):\n",
    "        return self.forward(X)\n"
   ]
  },
  {
   "cell_type": "markdown",
   "metadata": {
    "id": "iLvOp4K8W2Q3"
   },
   "source": [
    "Обучите нейронную сеть на рассмотренных ранее данных, а также простую линейную регрессию. Для линейной регрессии стоит взять реализацию из `sklearn`. Сравните эту нейросеть, линейную регрессию и pytorch-сеть из задачи 2."
   ]
  },
  {
   "cell_type": "code",
   "execution_count": 55,
   "metadata": {
    "id": "Mitew_VaW2Q3"
   },
   "outputs": [
    {
     "name": "stdout",
     "output_type": "stream",
     "text": [
      "линейная регрессия MSE: 0.06438852\n"
     ]
    },
    {
     "ename": "KeyboardInterrupt",
     "evalue": "",
     "output_type": "error",
     "traceback": [
      "\u001B[1;31m---------------------------------------------------------------------------\u001B[0m",
      "\u001B[1;31mKeyboardInterrupt\u001B[0m                         Traceback (most recent call last)",
      "Cell \u001B[1;32mIn[55], line 15\u001B[0m\n\u001B[0;32m     12\u001B[0m \u001B[38;5;28mprint\u001B[39m(\u001B[38;5;124m\"\u001B[39m\u001B[38;5;124mлинейная регрессия MSE:\u001B[39m\u001B[38;5;124m\"\u001B[39m, mse_linear)\n\u001B[0;32m     14\u001B[0m nn \u001B[38;5;241m=\u001B[39m NeuralNetwork(input_size\u001B[38;5;241m=\u001B[39m\u001B[38;5;241m1\u001B[39m, hidden_size\u001B[38;5;241m=\u001B[39m\u001B[38;5;241m4\u001B[39m, output_size\u001B[38;5;241m=\u001B[39m\u001B[38;5;241m1\u001B[39m)\n\u001B[1;32m---> 15\u001B[0m \u001B[43mnn\u001B[49m\u001B[38;5;241;43m.\u001B[39;49m\u001B[43mfit\u001B[49m\u001B[43m(\u001B[49m\u001B[43mX\u001B[49m\u001B[43m,\u001B[49m\u001B[43m \u001B[49m\u001B[43my\u001B[49m\u001B[43m)\u001B[49m\n\u001B[0;32m     17\u001B[0m y_pred_nn \u001B[38;5;241m=\u001B[39m nn\u001B[38;5;241m.\u001B[39mpredict(X)\n\u001B[0;32m     18\u001B[0m mse_nn \u001B[38;5;241m=\u001B[39m mean_squared_error(y, y_pred_nn)\n",
      "Cell \u001B[1;32mIn[37], line 45\u001B[0m, in \u001B[0;36mNeuralNetwork.fit\u001B[1;34m(self, X, Y, batch_size)\u001B[0m\n\u001B[0;32m     41\u001B[0m batch_Y \u001B[38;5;241m=\u001B[39m Y[i:i\u001B[38;5;241m+\u001B[39mbatch_size]\n\u001B[0;32m     43\u001B[0m output \u001B[38;5;241m=\u001B[39m \u001B[38;5;28mself\u001B[39m\u001B[38;5;241m.\u001B[39mforward(batch_X)\n\u001B[1;32m---> 45\u001B[0m grad_output \u001B[38;5;241m=\u001B[39m \u001B[38;5;241m2\u001B[39m \u001B[38;5;241m*\u001B[39m (output \u001B[38;5;241m-\u001B[39m \u001B[43mnp\u001B[49m\u001B[38;5;241;43m.\u001B[39;49m\u001B[43marray\u001B[49m\u001B[43m(\u001B[49m\u001B[43mbatch_Y\u001B[49m\u001B[43m)\u001B[49m) \u001B[38;5;241m/\u001B[39m \u001B[38;5;28mlen\u001B[39m(batch_Y)\n\u001B[0;32m     46\u001B[0m grad_wout \u001B[38;5;241m=\u001B[39m np\u001B[38;5;241m.\u001B[39mdot(grad_output\u001B[38;5;241m.\u001B[39mT, \u001B[38;5;28mself\u001B[39m\u001B[38;5;241m.\u001B[39mhidden_output\u001B[38;5;241m.\u001B[39mT)\n\u001B[0;32m     47\u001B[0m grad_bout \u001B[38;5;241m=\u001B[39m np\u001B[38;5;241m.\u001B[39msum(grad_output, axis\u001B[38;5;241m=\u001B[39m\u001B[38;5;241m0\u001B[39m, keepdims\u001B[38;5;241m=\u001B[39m\u001B[38;5;28;01mTrue\u001B[39;00m)\u001B[38;5;241m.\u001B[39mT\n",
      "\u001B[1;31mKeyboardInterrupt\u001B[0m: "
     ]
    }
   ],
   "source": [
    "X = torch.tensor(X_train, dtype=torch.float32)\n",
    "y = torch.tensor(Y_train, dtype=torch.float32)\n",
    "\n",
    "X = X.view(-1, 1)\n",
    "y = y.view(-1, 1)\n",
    "\n",
    "linear_regressor = LinearRegression()\n",
    "linear_regressor.fit(X, y)\n",
    "\n",
    "y_pred_linear = linear_regressor.predict(X)\n",
    "mse_linear = mean_squared_error(y, y_pred_linear)\n",
    "print(\"линейная регрессия MSE:\", mse_linear)\n",
    "\n",
    "nn = NeuralNetwork(input_size=1, hidden_size=4, output_size=1)\n",
    "nn.fit(X, y)\n",
    "\n",
    "y_pred_nn = nn.predict(X)\n",
    "mse_nn = mean_squared_error(y, y_pred_nn)\n",
    "print(\"нейронная сеть MSE:\", mse_nn)\n",
    "\n",
    "y_pred_torch = model(x).detach().numpy()\n",
    "mse_torch = mean_squared_error(y, y_pred_torch)\n",
    "print(\"pytotch-сеть из задачи 2 MSE:\", mse_torch)"
   ]
  },
  {
   "cell_type": "markdown",
   "metadata": {
    "id": "6NmNpWkPW2Q3"
   },
   "source": [
    "Визуализируйте предсказания данных моделей и посчитайте MSE на тестовой части данных."
   ]
  },
  {
   "cell_type": "code",
   "execution_count": 56,
   "metadata": {
    "id": "r2OEQK6JW2Q3"
   },
   "outputs": [
    {
     "name": "stdout",
     "output_type": "stream",
     "text": [
      "линейная регрессия MSE на тестовой выборке: 0.06399189504381814\n"
     ]
    },
    {
     "ename": "ValueError",
     "evalue": "shapes (4,1) and (32,32) not aligned: 1 (dim 1) != 32 (dim 0)",
     "output_type": "error",
     "traceback": [
      "\u001B[1;31m---------------------------------------------------------------------------\u001B[0m",
      "\u001B[1;31mValueError\u001B[0m                                Traceback (most recent call last)",
      "Cell \u001B[1;32mIn[56], line 8\u001B[0m\n\u001B[0;32m      5\u001B[0m \u001B[38;5;28mprint\u001B[39m(\u001B[38;5;124m\"\u001B[39m\u001B[38;5;124mлинейная регрессия MSE на тестовой выборке:\u001B[39m\u001B[38;5;124m\"\u001B[39m, mse_linear)\n\u001B[0;32m      7\u001B[0m nn \u001B[38;5;241m=\u001B[39m NeuralNetwork(input_size\u001B[38;5;241m=\u001B[39m\u001B[38;5;241m1\u001B[39m, hidden_size\u001B[38;5;241m=\u001B[39m\u001B[38;5;241m4\u001B[39m, output_size\u001B[38;5;241m=\u001B[39m\u001B[38;5;241m1\u001B[39m)\n\u001B[1;32m----> 8\u001B[0m \u001B[43mnn\u001B[49m\u001B[38;5;241;43m.\u001B[39;49m\u001B[43mfit\u001B[49m\u001B[43m(\u001B[49m\u001B[43mX_train\u001B[49m\u001B[43m,\u001B[49m\u001B[43m \u001B[49m\u001B[43mY_train\u001B[49m\u001B[43m)\u001B[49m\n\u001B[0;32m      9\u001B[0m y_pred_nn \u001B[38;5;241m=\u001B[39m nn\u001B[38;5;241m.\u001B[39mpredict(X_test)\n\u001B[0;32m     10\u001B[0m mse_nn \u001B[38;5;241m=\u001B[39m mean_squared_error(Y_test, y_pred_nn)\n",
      "Cell \u001B[1;32mIn[37], line 48\u001B[0m, in \u001B[0;36mNeuralNetwork.fit\u001B[1;34m(self, X, Y, batch_size)\u001B[0m\n\u001B[0;32m     46\u001B[0m grad_wout \u001B[38;5;241m=\u001B[39m np\u001B[38;5;241m.\u001B[39mdot(grad_output\u001B[38;5;241m.\u001B[39mT, \u001B[38;5;28mself\u001B[39m\u001B[38;5;241m.\u001B[39mhidden_output\u001B[38;5;241m.\u001B[39mT)\n\u001B[0;32m     47\u001B[0m grad_bout \u001B[38;5;241m=\u001B[39m np\u001B[38;5;241m.\u001B[39msum(grad_output, axis\u001B[38;5;241m=\u001B[39m\u001B[38;5;241m0\u001B[39m, keepdims\u001B[38;5;241m=\u001B[39m\u001B[38;5;28;01mTrue\u001B[39;00m)\u001B[38;5;241m.\u001B[39mT\n\u001B[1;32m---> 48\u001B[0m grad_hidden \u001B[38;5;241m=\u001B[39m \u001B[43mnp\u001B[49m\u001B[38;5;241;43m.\u001B[39;49m\u001B[43mdot\u001B[49m\u001B[43m(\u001B[49m\u001B[38;5;28;43mself\u001B[39;49m\u001B[38;5;241;43m.\u001B[39;49m\u001B[43mwout\u001B[49m\u001B[38;5;241;43m.\u001B[39;49m\u001B[43mT\u001B[49m\u001B[43m,\u001B[49m\u001B[43m \u001B[49m\u001B[43mgrad_output\u001B[49m\u001B[38;5;241;43m.\u001B[39;49m\u001B[43mT\u001B[49m\u001B[43m)\u001B[49m \u001B[38;5;241m*\u001B[39m \u001B[38;5;28mself\u001B[39m\u001B[38;5;241m.\u001B[39mhidden_output \u001B[38;5;241m*\u001B[39m (\u001B[38;5;241m1\u001B[39m \u001B[38;5;241m-\u001B[39m \u001B[38;5;28mself\u001B[39m\u001B[38;5;241m.\u001B[39mhidden_output)\n\u001B[0;32m     49\u001B[0m grad_w21 \u001B[38;5;241m=\u001B[39m np\u001B[38;5;241m.\u001B[39mdot(grad_hidden, batch_X)\n\u001B[0;32m     50\u001B[0m grad_w22 \u001B[38;5;241m=\u001B[39m np\u001B[38;5;241m.\u001B[39mdot(grad_hidden, batch_X)\n",
      "\u001B[1;31mValueError\u001B[0m: shapes (4,1) and (32,32) not aligned: 1 (dim 1) != 32 (dim 0)"
     ]
    }
   ],
   "source": [
    "linear_regressor = LinearRegression()\n",
    "linear_regressor.fit(X_train, Y_train)\n",
    "y_pred_linear = linear_regressor.predict(X_test)\n",
    "mse_linear = mean_squared_error(Y_test, y_pred_linear)\n",
    "print(\"линейная регрессия MSE на тестовой выборке:\", mse_linear)\n",
    "\n",
    "nn = NeuralNetwork(input_size=1, hidden_size=4, output_size=1)\n",
    "nn.fit(X_train, Y_train)\n",
    "y_pred_nn = nn.predict(X_test)\n",
    "mse_nn = mean_squared_error(Y_test, y_pred_nn)\n",
    "print(\"нейронная сеть MSE на тестовой выборке:\", mse_nn)\n",
    "\n",
    "y_pred_torch = model(X_test).detach().numpy()\n",
    "mse_torch = mean_squared_error(Y_test, y_pred_torch)\n",
    "print(\"PyTorch-сеть из задачи 2 MSE на тестовой выборке:\", mse_torch)\n",
    "\n",
    "plt.scatter(X_test, Y_test, color='black', label='Исходные данные')\n",
    "plt.plot(X_test, y_pred_linear, color='blue', linewidth=2, label='Линейная регрессия')\n",
    "plt.plot(X_test, y_pred_nn, color='red', linewidth=2, label='Нейронная сеть')\n",
    "plt.plot(X_test, y_pred_torch, color='green', linewidth=2, label='PyTorch-сеть')\n",
    "plt.legend()\n",
    "plt.show()"
   ]
  },
  {
   "cell_type": "markdown",
   "metadata": {
    "id": "j-_6rkdkW2Q3"
   },
   "source": [
    "Повторите вычисления для другой нелинейной функции $y(x)$."
   ]
  },
  {
   "cell_type": "code",
   "execution_count": 57,
   "metadata": {
    "id": "1GJuV0dfW2Q3"
   },
   "outputs": [
    {
     "ename": "AttributeError",
     "evalue": "'NeuralNetwork' object has no attribute 'Sequential'",
     "output_type": "error",
     "traceback": [
      "\u001B[1;31m---------------------------------------------------------------------------\u001B[0m",
      "\u001B[1;31mAttributeError\u001B[0m                            Traceback (most recent call last)",
      "Cell \u001B[1;32mIn[57], line 9\u001B[0m\n\u001B[0;32m      6\u001B[0m X_test_tensor \u001B[38;5;241m=\u001B[39m torch\u001B[38;5;241m.\u001B[39mtensor(X_test, dtype\u001B[38;5;241m=\u001B[39mtorch\u001B[38;5;241m.\u001B[39mfloat32)\u001B[38;5;241m.\u001B[39mview(\u001B[38;5;241m-\u001B[39m\u001B[38;5;241m1\u001B[39m, \u001B[38;5;241m1\u001B[39m)\n\u001B[0;32m      7\u001B[0m y_test_tensor \u001B[38;5;241m=\u001B[39m torch\u001B[38;5;241m.\u001B[39mtensor(y_test, dtype\u001B[38;5;241m=\u001B[39mtorch\u001B[38;5;241m.\u001B[39mfloat32)\u001B[38;5;241m.\u001B[39mview(\u001B[38;5;241m-\u001B[39m\u001B[38;5;241m1\u001B[39m, \u001B[38;5;241m1\u001B[39m)\n\u001B[1;32m----> 9\u001B[0m model \u001B[38;5;241m=\u001B[39m \u001B[43mnn\u001B[49m\u001B[38;5;241;43m.\u001B[39;49m\u001B[43mSequential\u001B[49m(\n\u001B[0;32m     10\u001B[0m     nn\u001B[38;5;241m.\u001B[39mLinear(\u001B[38;5;241m1\u001B[39m, \u001B[38;5;241m2\u001B[39m),\n\u001B[0;32m     11\u001B[0m     nn\u001B[38;5;241m.\u001B[39mSigmoid(),\n\u001B[0;32m     12\u001B[0m     nn\u001B[38;5;241m.\u001B[39mLinear(\u001B[38;5;241m2\u001B[39m, \u001B[38;5;241m1\u001B[39m)\n\u001B[0;32m     13\u001B[0m )\n\u001B[0;32m     15\u001B[0m \u001B[38;5;28;01mfor\u001B[39;00m param \u001B[38;5;129;01min\u001B[39;00m model\u001B[38;5;241m.\u001B[39mparameters():\n\u001B[0;32m     16\u001B[0m     nn\u001B[38;5;241m.\u001B[39minit\u001B[38;5;241m.\u001B[39mconstant_(param, \u001B[38;5;241m1.0\u001B[39m)\n",
      "\u001B[1;31mAttributeError\u001B[0m: 'NeuralNetwork' object has no attribute 'Sequential'"
     ]
    }
   ],
   "source": [
    "X_train, X_test, y_train, y_test = train_test_split(X_, Y_, test_size=0.2, random_state=42)\n",
    "\n",
    "X_train_tensor = torch.tensor(X_train, dtype=torch.float32).view(-1, 1)\n",
    "y_train_tensor = torch.tensor(y_train, dtype=torch.float32).view(-1, 1)\n",
    "\n",
    "X_test_tensor = torch.tensor(X_test, dtype=torch.float32).view(-1, 1)\n",
    "y_test_tensor = torch.tensor(y_test, dtype=torch.float32).view(-1, 1)\n",
    "\n",
    "model = nn.Sequential(\n",
    "    nn.Linear(1, 2),\n",
    "    nn.Sigmoid(),\n",
    "    nn.Linear(2, 1)\n",
    ")\n",
    "\n",
    "for param in model.parameters():\n",
    "    nn.init.constant_(param, 1.0)\n",
    "\n",
    "optimizer = torch.optim.SGD(model.parameters(), lr=0.01)\n",
    "optim_func = nn.MSELoss()\n",
    "\n",
    "num_epochs = 1000\n",
    "for epoch in range(num_epochs):\n",
    "    optimizer.zero_grad()\n",
    "    outputs = model(X_train_tensor)\n",
    "    loss = optim_func(outputs, y_train_tensor)\n",
    "    loss.backward()\n",
    "    optimizer.step()\n",
    "\n",
    "# Вычисление MSE на тестовой выборке\n",
    "with torch.no_grad():\n",
    "    y_pred_test = model(X_test_tensor)\n",
    "    plt.figure(figsize=(10, 7))\n",
    "    plt.scatter(X_test_tensor.numpy(), y_test_tensor.numpy(), alpha=0.75)\n",
    "    plt.scatter(X_test_tensor.numpy(), y_pred_test.numpy(), color='orange', linewidth=5, )\n",
    "    plt.scatter(X_test_tensor.numpy(), y_pred_linear, color='red', linewidths=5)\n",
    "    plt.scatter(X_test_tensor.numpy(), y_pred_torch, color='blue', linewidths=5)\n",
    "    plt.xlabel('X')\n",
    "    plt.legend(['sinx','linear','torch'])\n",
    "    plt.show()\n",
    "    print(f\"MSE на тестовой выборке: {loss:.3f}\")"
   ]
  },
  {
   "cell_type": "markdown",
   "metadata": {
    "id": "CtVD-MTtW2Q4"
   },
   "source": [
    "**Вывод:**\n",
    "Так как функция синус, то минимазация ошибки хорошая, но при это график неправильно восстановлен, так как у сигмоиды наверно происходит затухание градиента, но я не уверен.\n",
    "Я специально ради интереса сделал ужасную и маленькую выборку данных. Думаю, что в реальной жизни данные выглядят сильно иначе, поэтому в первых случаях нейронка справилась лучше, она же вроде долнжа учитывать нерациональный выбор, но я опять же не уверен. Получился интересный резаультат, но остался вопрос как избавиться от затухания градиента в данной задаче если используется функция активации сигмоида.\n"
   ]
  },
  {
   "cell_type": "code",
   "execution_count": null,
   "outputs": [],
   "source": [],
   "metadata": {
    "collapsed": false
   }
  }
 ],
 "metadata": {
  "colab": {
   "provenance": []
  },
  "kernelspec": {
   "display_name": "Python 3",
   "language": "python",
   "name": "python3"
  },
  "language_info": {
   "codemirror_mode": {
    "name": "ipython",
    "version": 3
   },
   "file_extension": ".py",
   "mimetype": "text/x-python",
   "name": "python",
   "nbconvert_exporter": "python",
   "pygments_lexer": "ipython3",
   "version": "3.8.10"
  }
 },
 "nbformat": 4,
 "nbformat_minor": 0
}
